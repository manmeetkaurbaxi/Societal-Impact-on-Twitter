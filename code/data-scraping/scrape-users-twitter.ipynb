{
 "cells": [
  {
   "cell_type": "code",
   "execution_count": 1,
   "metadata": {},
   "outputs": [],
   "source": [
    "import tweepy\n",
    "import pandas as pd"
   ]
  },
  {
   "cell_type": "code",
   "execution_count": 2,
   "metadata": {},
   "outputs": [],
   "source": [
    "bearer_token = \"\"\n",
    "client = tweepy.Client(bearer_token=bearer_token)"
   ]
  },
  {
   "cell_type": "code",
   "execution_count": 3,
   "metadata": {},
   "outputs": [],
   "source": [
    "username = 'BorisJohnson'\n",
    "query = 'from:'+username\n",
    "start_time = '2019-12-01T00:00:00Z'\n",
    "end_time = '2021-12-31T23:59:59Z'"
   ]
  },
  {
   "cell_type": "code",
   "execution_count": 4,
   "metadata": {},
   "outputs": [],
   "source": [
    "tweets = tweepy.Paginator(client.search_all_tweets, query=query, tweet_fields=['id','text','created_at','conversation_id','public_metrics','entities',\n",
    "                                                                               'in_reply_to_user_id','lang','possibly_sensitive'], \n",
    "                          max_results=500, start_time=start_time, end_time=end_time).flatten(limit=500000)"
   ]
  },
  {
   "cell_type": "code",
   "execution_count": 5,
   "metadata": {},
   "outputs": [],
   "source": [
    "tweet_df = pd.DataFrame(columns=['id','created_at','conversation_id','tweet','retweet_count','like_count','reply_count','quote_count','expanded_url',\n",
    "                                'language','possibly_sensitive','in_reply_to_user_id'])\n",
    "\n",
    "for tweet in tweets:  \n",
    "    if tweet.entities is not None:\n",
    "        if tweet.entities.get('urls') is not None:\n",
    "            tweet_df = tweet_df.append({'id':tweet.id, 'created_at': tweet.created_at, 'conversation_id': tweet.conversation_id, 'tweet': tweet.text, \n",
    "                                        'retweet_count': tweet.public_metrics.get('retweet_count'), 'like_count':tweet.public_metrics.get('like_count'),\n",
    "                                        'reply_count': tweet.public_metrics.get('reply_count'), 'quote_count':tweet.public_metrics.get('quote_count'),\n",
    "                                        'expanded_url': tweet.entities.get('urls')[0].get('expanded_url'), 'language': tweet.lang, \n",
    "                                        'possibly_sensitive':tweet.possibly_sensitive, 'in_reply_to_user_id':tweet.in_reply_to_user_id}, ignore_index=True)\n",
    "        else:\n",
    "           tweet_df = tweet_df.append({'id':tweet.id, 'created_at': tweet.created_at, 'conversation_id': tweet.conversation_id, 'tweet': tweet.text, \n",
    "                                        'retweet_count': tweet.public_metrics.get('retweet_count'), 'like_count':tweet.public_metrics.get('like_count'),\n",
    "                                        'reply_count': tweet.public_metrics.get('reply_count'), 'quote_count':tweet.public_metrics.get('quote_count'),\n",
    "                                        'expanded_url': '', 'language': tweet.lang, 'possibly_sensitive':tweet.possibly_sensitive, \n",
    "                                        'in_reply_to_user_id':tweet.in_reply_to_user_id}, ignore_index=True)"
   ]
  },
  {
   "cell_type": "code",
   "execution_count": 6,
   "metadata": {},
   "outputs": [],
   "source": [
    "tweet_df['username'] = username\n",
    "tweet_df.to_csv('../../data/leaders/'+username+'.csv', index=False)"
   ]
  },
  {
   "cell_type": "code",
   "execution_count": 7,
   "metadata": {},
   "outputs": [
    {
     "data": {
      "text/plain": [
       "(2335, 13)"
      ]
     },
     "execution_count": 7,
     "metadata": {},
     "output_type": "execute_result"
    }
   ],
   "source": [
    "tweet_df.shape"
   ]
  },
  {
   "cell_type": "code",
   "execution_count": null,
   "metadata": {},
   "outputs": [],
   "source": []
  }
 ],
 "metadata": {
  "interpreter": {
   "hash": "ac59ebe37160ed0dfa835113d9b8498d9f09ceb179beaac4002f036b9467c963"
  },
  "kernelspec": {
   "display_name": "Python 3.9.7 64-bit",
   "name": "python3"
  },
  "language_info": {
   "codemirror_mode": {
    "name": "ipython",
    "version": 3
   },
   "file_extension": ".py",
   "mimetype": "text/x-python",
   "name": "python",
   "nbconvert_exporter": "python",
   "pygments_lexer": "ipython3",
   "version": "3.9.9"
  },
  "orig_nbformat": 4
 },
 "nbformat": 4,
 "nbformat_minor": 2
}
