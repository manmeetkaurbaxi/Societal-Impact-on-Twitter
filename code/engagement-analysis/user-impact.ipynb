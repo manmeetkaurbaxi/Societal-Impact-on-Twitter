{
  "cells": [
    {
      "cell_type": "code",
      "execution_count": null,
      "metadata": {
        "id": "DOF87R6HPgVn"
      },
      "outputs": [],
      "source": [
        "# !pip install kaleido -q"
      ]
    },
    {
      "cell_type": "code",
      "execution_count": null,
      "metadata": {
        "id": "Pz_H05OGPVFZ"
      },
      "outputs": [],
      "source": [
        "import pandas as pd\n",
        "import tweepy\n",
        "import math\n",
        "import datetime\n",
        "import numpy as np\n",
        "from sklearn.preprocessing import LabelEncoder, MinMaxScaler, minmax_scale\n",
        "import plotly.express as px\n",
        "\n",
        "import warnings\n",
        "warnings.filterwarnings('ignore')"
      ]
    },
    {
      "cell_type": "code",
      "execution_count": null,
      "metadata": {
        "id": "8TC84fG1PVFa"
      },
      "outputs": [],
      "source": [
        "user_info_df = pd.read_csv('../../data/user_info_updated.csv')"
      ]
    },
    {
      "cell_type": "code",
      "execution_count": null,
      "metadata": {
        "id": "kzhtk5jaPVFb"
      },
      "outputs": [],
      "source": [
        "data_collection_end_time = '2021-12-31 23:59:59'\n",
        "def user_impact(tweet_count, created_at, followers_count, listed_count, following_count):\n",
        "    created_at = str(created_at)[:-6]\n",
        "    profile_age = (datetime.datetime.strptime(data_collection_end_time, '%Y-%m-%d %H:%M:%S') - datetime.datetime.strptime(created_at, '%Y-%m-%d %H:%M:%S')).days\n",
        "    \n",
        "    impact = np.round(((followers_count * listed_count * math.log10((followers_count/following_count) + 1)) / (tweet_count * profile_age)), 7)\n",
        "    \n",
        "    return impact"
      ]
    },
    {
      "cell_type": "code",
      "execution_count": null,
      "metadata": {
        "id": "nUQ3rsggPVFb"
      },
      "outputs": [],
      "source": [
        "user_info_df['impact'] = user_info_df[['tweet_count','created_at','followers_count','listed_count','following_count']].apply(lambda x: user_impact(*x), axis=1)"
      ]
    },
    {
      "cell_type": "code",
      "execution_count": null,
      "metadata": {
        "colab": {
          "base_uri": "https://localhost:8080/",
          "height": 1000
        },
        "id": "VAGblP4bPVFb",
        "outputId": "86556fad-744c-4777-886f-1188a6a398f9"
      },
      "outputs": [],
      "source": [
        "user_info_df"
      ]
    },
    {
      "cell_type": "code",
      "execution_count": null,
      "metadata": {
        "id": "x0beqGPyPVFc"
      },
      "outputs": [],
      "source": [
        "minMaxScaler = MinMaxScaler()\n",
        "user_info_df[['user_impact_scaled']] = minMaxScaler.fit_transform(user_info_df[['user_impact']])"
      ]
    },
    {
      "cell_type": "code",
      "execution_count": null,
      "metadata": {
        "id": "1I_xd7aoPVFc"
      },
      "outputs": [],
      "source": [
        "user_info_df['group'] = ''\n",
        "\n",
        "user_info_df.iloc[:10]['group'] = 'Leaders'\n",
        "user_info_df.iloc[10:]['group'] = 'Health Organizations'"
      ]
    },
    {
      "cell_type": "code",
      "execution_count": null,
      "metadata": {
        "id": "klJSImxatAMh"
      },
      "outputs": [],
      "source": [
        "labelEncoder = LabelEncoder()\n",
        "user_info_df['group_category'] = labelEncoder.fit_transform(user_info_df['group'])\n",
        "user_info_df['user_impact_scaled_by_group'] = user_info_df.groupby('group_category').user_impact.transform(lambda x:minmax_scale(x.astype(float)))\n",
        "minMaxScaler = MinMaxScaler()\n",
        "user_info_df[['user_impact_scaled']] = minMaxScaler.fit_transform(user_info_df[['user_impact']])"
      ]
    },
    {
      "cell_type": "markdown",
      "metadata": {
        "id": "cDbmSt5dPVFd"
      },
      "source": [
        "### Plots"
      ]
    },
    {
      "cell_type": "code",
      "execution_count": null,
      "metadata": {
        "colab": {
          "base_uri": "https://localhost:8080/",
          "height": 517
        },
        "id": "y1bqyE-qPVFd",
        "outputId": "b3348ace-3c5b-45d1-c3e9-0731a1e994c7"
      },
      "outputs": [],
      "source": [
        "fig = px.bar(user_info_df, x='username', y='user_impact', color='group', width=1200, height=500)\n",
        "fig.update_layout(yaxis_title = 'User Impact', xaxis_title = 'Username',\n",
        "    font = dict(\n",
        "        size = 20,\n",
        "        color = '#000000'\n",
        "    ),\n",
        "    # autosize = True,\n",
        "    legend=dict(\n",
        "        x=0.01,\n",
        "        y=0.98,\n",
        "        title_text='',\n",
        "        traceorder='normal',\n",
        "        font=dict(\n",
        "            size=20,),\n",
        "    ),\n",
        "    margin = dict(\n",
        "        l = 10,\n",
        "        b = 10,\n",
        "        r = 10,\n",
        "        t = 10\n",
        "    ), \n",
        "    # legend_title_text = 'Type of Organization'\n",
        ")\n",
        "fig.show()\n",
        "fig.write_image('user-impact.pdf', engine='kaleido')\n",
        "fig.write_image('user-impact.png', engine='kaleido')\n",
        "# fig.write_image('user-impact.html', engine='kaleido')"
      ]
    },
    {
      "cell_type": "code",
      "execution_count": null,
      "metadata": {
        "colab": {
          "base_uri": "https://localhost:8080/",
          "height": 517
        },
        "id": "gF16ElT_PVFe",
        "outputId": "a9d7434e-b187-43d5-8b52-dc088375f961"
      },
      "outputs": [],
      "source": [
        "fig = px.bar(user_info_df, x='username', y='user_impact_scaled', color='group', width=1200, height=500)\n",
        "fig.update_layout(yaxis_title = 'User Impact (Scaled)', xaxis_title = 'Username',\n",
        "    font = dict(\n",
        "        size = 20,\n",
        "        color = '#000000'\n",
        "    ),\n",
        "    # autosize = True,\n",
        "    legend=dict(\n",
        "        x=0.01,\n",
        "        y=0.98,\n",
        "        title_text='',\n",
        "        traceorder='normal',\n",
        "        font=dict(\n",
        "            size=20,),\n",
        "    ),\n",
        "    margin = dict(\n",
        "        l = 10,\n",
        "        b = 10,\n",
        "        r = 10,\n",
        "        t = 10\n",
        "    ), \n",
        "    # legend_title_text = 'Type of Organization'\n",
        ")\n",
        "fig.show()\n",
        "fig.write_image('user-impact-scaled.pdf', engine='kaleido')\n",
        "fig.write_image('user-impact-scaled.png', engine='kaleido')"
      ]
    },
    {
      "cell_type": "code",
      "execution_count": null,
      "metadata": {
        "colab": {
          "base_uri": "https://localhost:8080/",
          "height": 517
        },
        "id": "rn_1mQXOPVFe",
        "outputId": "933e8c2a-dbbb-4602-8f2f-9c1aeff839ad"
      },
      "outputs": [],
      "source": [
        "fig = px.bar(user_info_df, x='username', y='user_impact_scaled_by_group', color='group', width=1250, height=500)\n",
        "fig.update_layout(yaxis_title = 'User Impact (Scaled by Group)', xaxis_title = 'Username',\n",
        "    font = dict(\n",
        "        size = 19,\n",
        "        color = '#000000'\n",
        "    ),\n",
        "    # autosize = True,\n",
        "    legend=dict(\n",
        "        x=0.01,\n",
        "        y=0.98,\n",
        "        title_text='',\n",
        "        traceorder='normal',\n",
        "        font=dict(\n",
        "            size=16,),\n",
        "    ),\n",
        "    margin = dict(\n",
        "        l = 10,\n",
        "        b = 10,\n",
        "        r = 10,\n",
        "        t = 10\n",
        "    ), \n",
        "    # legend_title_text = 'Type of Organization'\n",
        ")\n",
        "fig.write_image('user-impact-scaled-by-group.pdf', engine='kaleido')\n",
        "fig.write_image('user-impact-scaled-by-group.png', engine='kaleido')\n",
        "fig.show()"
      ]
    },
    {
      "cell_type": "code",
      "execution_count": null,
      "metadata": {
        "id": "IjBzfgeptG6M"
      },
      "outputs": [],
      "source": [
        "user_info_df.to_csv('../../../data/user_info_reframe.csv', index=False)"
      ]
    },
    {
      "cell_type": "code",
      "execution_count": null,
      "metadata": {},
      "outputs": [],
      "source": []
    }
  ],
  "metadata": {
    "colab": {
      "name": "user-impact.ipynb",
      "provenance": []
    },
    "interpreter": {
      "hash": "ac59ebe37160ed0dfa835113d9b8498d9f09ceb179beaac4002f036b9467c963"
    },
    "kernelspec": {
      "display_name": "Python 3.9.9 64-bit",
      "language": "python",
      "name": "python3"
    },
    "language_info": {
      "codemirror_mode": {
        "name": "ipython",
        "version": 3
      },
      "file_extension": ".py",
      "mimetype": "text/x-python",
      "name": "python",
      "nbconvert_exporter": "python",
      "pygments_lexer": "ipython3",
      "version": "3.9.9"
    },
    "orig_nbformat": 4
  },
  "nbformat": 4,
  "nbformat_minor": 0
}
